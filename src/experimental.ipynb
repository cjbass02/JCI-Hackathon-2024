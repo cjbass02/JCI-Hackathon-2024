{
 "cells": [
  {
   "cell_type": "markdown",
   "metadata": {},
   "source": [
    "Notebook for experiments"
   ]
  },
  {
   "cell_type": "code",
   "execution_count": 43,
   "metadata": {},
   "outputs": [],
   "source": [
    "import pandas as pd\n",
    "import json\n",
    "\n",
    "pd.set_option('display.max_rows', 500)\n",
    "pd.set_option('display.max_columns', 500)"
   ]
  },
  {
   "cell_type": "code",
   "execution_count": 38,
   "metadata": {},
   "outputs": [],
   "source": [
    "def json_to_dataframe(file_path):\n",
    "    with open(file_path, 'r') as f:\n",
    "        data = json.load(f)\n",
    "    \n",
    "    # Ensure data is a list of dictionaries\n",
    "    if isinstance(data, dict):\n",
    "        data = [data]\n",
    "    \n",
    "    df = pd.DataFrame(data)\n",
    "    return df\n",
    "\n",
    "\n",
    "df_airthings = json_to_dataframe('../data/airthings.json')\n",
    "df_enlink = json_to_dataframe('../data/enlink.json')\n",
    "df_igor = json_to_dataframe('../data/igor.json')\n",
    "df_kaiterra = json_to_dataframe('../data/kaiterra.json')\n",
    "df_quant = json_to_dataframe('../data/quant.json')\n",
    "df_uhoo = json_to_dataframe('../data/uhoo.json')"
   ]
  },
  {
   "cell_type": "code",
   "execution_count": 39,
   "metadata": {},
   "outputs": [
    {
     "data": {
      "text/html": [
       "<div>\n",
       "<style scoped>\n",
       "    .dataframe tbody tr th:only-of-type {\n",
       "        vertical-align: middle;\n",
       "    }\n",
       "\n",
       "    .dataframe tbody tr th {\n",
       "        vertical-align: top;\n",
       "    }\n",
       "\n",
       "    .dataframe thead th {\n",
       "        text-align: right;\n",
       "    }\n",
       "</style>\n",
       "<table border=\"1\" class=\"dataframe\">\n",
       "  <thead>\n",
       "    <tr style=\"text-align: right;\">\n",
       "      <th></th>\n",
       "      <th>temperature_c</th>\n",
       "      <th>humidity</th>\n",
       "      <th>pressure_mbar</th>\n",
       "      <th>iaq</th>\n",
       "      <th>bvoc</th>\n",
       "      <th>co2e_ppm</th>\n",
       "      <th>co2_ppm</th>\n",
       "      <th>mc_pm1_0</th>\n",
       "      <th>mc_pm2_5</th>\n",
       "      <th>mc_pm4_0</th>\n",
       "      <th>mc_pm10_0</th>\n",
       "      <th>nc_pm0_5</th>\n",
       "      <th>nc_pm1_0</th>\n",
       "      <th>nc_pm2_5</th>\n",
       "      <th>nc_pm4_0</th>\n",
       "      <th>nc_pm10_0</th>\n",
       "      <th>pm_tps</th>\n",
       "      <th>batt_mv</th>\n",
       "    </tr>\n",
       "  </thead>\n",
       "  <tbody>\n",
       "    <tr>\n",
       "      <th>0</th>\n",
       "      <td>19.6</td>\n",
       "      <td>40</td>\n",
       "      <td>1039</td>\n",
       "      <td>106</td>\n",
       "      <td>1.703</td>\n",
       "      <td>1060.64</td>\n",
       "      <td>495</td>\n",
       "      <td>1.39</td>\n",
       "      <td>2.04</td>\n",
       "      <td>2.49</td>\n",
       "      <td>2.74</td>\n",
       "      <td>8.24</td>\n",
       "      <td>10.45</td>\n",
       "      <td>11.07</td>\n",
       "      <td>11.18</td>\n",
       "      <td>11.21</td>\n",
       "      <td>0.72</td>\n",
       "      <td>3319</td>\n",
       "    </tr>\n",
       "  </tbody>\n",
       "</table>\n",
       "</div>"
      ],
      "text/plain": [
       "   temperature_c  humidity  pressure_mbar  iaq   bvoc co2e_ppm  co2_ppm  \\\n",
       "0           19.6        40           1039  106  1.703  1060.64      495   \n",
       "\n",
       "  mc_pm1_0 mc_pm2_5 mc_pm4_0 mc_pm10_0 nc_pm0_5 nc_pm1_0 nc_pm2_5 nc_pm4_0  \\\n",
       "0     1.39     2.04     2.49      2.74     8.24    10.45    11.07    11.18   \n",
       "\n",
       "  nc_pm10_0 pm_tps  batt_mv  \n",
       "0     11.21   0.72     3319  "
      ]
     },
     "execution_count": 39,
     "metadata": {},
     "output_type": "execute_result"
    }
   ],
   "source": [
    "df_enlink.head()"
   ]
  },
  {
   "cell_type": "code",
   "execution_count": 49,
   "metadata": {},
   "outputs": [],
   "source": [
    "df_airthings.rename(columns={'time': 'timestamp'}, inplace=True)\n",
    "\n",
    "df_airthings.rename(columns={'co2': 'CO2 (ppm)'}, inplace=True)\n",
    "df_igor.rename(columns={'Data': 'CO2 (ppm)'}, inplace=True)\n",
    "df_kaiterra.rename(columns={'rco2 (ppm)': 'CO2 (ppm)'}, inplace=True)\n",
    "df_quant.rename(columns={'co2': 'CO2 (ppm)'}, inplace=True)\n",
    "df_uhoo.rename(columns={'co2_ppm': 'CO2 (ppm)'}, inplace=True)\n",
    "df_enlink.rename(columns={'co2': 'CO2 (ppm)'}, inplace=True)"
   ]
  },
  {
   "cell_type": "code",
   "execution_count": 50,
   "metadata": {},
   "outputs": [
    {
     "data": {
      "text/html": [
       "<div>\n",
       "<style scoped>\n",
       "    .dataframe tbody tr th:only-of-type {\n",
       "        vertical-align: middle;\n",
       "    }\n",
       "\n",
       "    .dataframe tbody tr th {\n",
       "        vertical-align: top;\n",
       "    }\n",
       "\n",
       "    .dataframe thead th {\n",
       "        text-align: right;\n",
       "    }\n",
       "</style>\n",
       "<table border=\"1\" class=\"dataframe\">\n",
       "  <thead>\n",
       "    <tr style=\"text-align: right;\">\n",
       "      <th></th>\n",
       "      <th>metadata</th>\n",
       "      <th>event</th>\n",
       "    </tr>\n",
       "  </thead>\n",
       "  <tbody>\n",
       "    <tr>\n",
       "      <th>0</th>\n",
       "      <td>None</td>\n",
       "      <td>{'action': 'Sensor State Changed', 'entity': '...</td>\n",
       "    </tr>\n",
       "  </tbody>\n",
       "</table>\n",
       "</div>"
      ],
      "text/plain": [
       "  metadata                                              event\n",
       "0     None  {'action': 'Sensor State Changed', 'entity': '..."
      ]
     },
     "execution_count": 50,
     "metadata": {},
     "output_type": "execute_result"
    }
   ],
   "source": [
    "df_igor.head()"
   ]
  }
 ],
 "metadata": {
  "kernelspec": {
   "display_name": "Python 3",
   "language": "python",
   "name": "python3"
  },
  "language_info": {
   "codemirror_mode": {
    "name": "ipython",
    "version": 3
   },
   "file_extension": ".py",
   "mimetype": "text/x-python",
   "name": "python",
   "nbconvert_exporter": "python",
   "pygments_lexer": "ipython3",
   "version": "3.11.7"
  }
 },
 "nbformat": 4,
 "nbformat_minor": 2
}
